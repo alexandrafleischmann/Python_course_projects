{
 "cells": [
  {
   "cell_type": "code",
   "execution_count": null,
   "metadata": {},
   "outputs": [],
   "source": [
    "from random import randint\n",
    "num = randint(0,100)\n",
    "guess = int(input(\"Guess the number, it is between 1 and 100: \"))\n",
    "\n",
    "while guess > 100 or guess < 1:\n",
    "    print(\"Out of bounds\")\n",
    "    guess = int(input(\"Guess the number, it is between 1 and 100: \"))\n",
    "\n",
    "if num == guess:\n",
    "    print(\"You guessed correctly! It took you one guess\")\n",
    "elif abs(num-guess) < 10:\n",
    "        print(\"Warm!\")        \n",
    "else:\n",
    "    print(\"Cold\")\n",
    "diff = abs(num-guess)\n",
    "loop_count = 1\n",
    "if num != guess:\n",
    "    while num != guess:\n",
    "        guess = int(input(\"Guess again: \"))\n",
    "        loop_count +=1\n",
    "        if guess == num:\n",
    "            print(\"You guessed correctly. It took you {} guesses\".format(loop_count)) \n",
    "        elif guess > 100 or guess < 1:\n",
    "            print(\"Out of bounds\")\n",
    "        elif abs(num-guess)< diff:\n",
    "            print(\"Warmer\")\n",
    "            diff = abs(num-guess)\n",
    "        elif abs(num-guess)> diff:\n",
    "            print(\"Colder\")\n",
    "            diff = abs(num-guess)\n",
    "        elif abs(num-guess)==diff:\n",
    "            print(\"Same\")\n",
    "            diff = abs(num-guess)\n",
    "   "
   ]
  },
  {
   "cell_type": "code",
   "execution_count": null,
   "metadata": {},
   "outputs": [],
   "source": [
    "\n",
    "\n",
    "\n"
   ]
  }
 ],
 "metadata": {
  "kernelspec": {
   "display_name": "Python 3",
   "language": "python",
   "name": "python3"
  },
  "language_info": {
   "codemirror_mode": {
    "name": "ipython",
    "version": 3
   },
   "file_extension": ".py",
   "mimetype": "text/x-python",
   "name": "python",
   "nbconvert_exporter": "python",
   "pygments_lexer": "ipython3",
   "version": "3.7.6"
  }
 },
 "nbformat": 4,
 "nbformat_minor": 4
}
