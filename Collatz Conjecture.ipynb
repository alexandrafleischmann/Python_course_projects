{
 "cells": [
  {
   "cell_type": "markdown",
   "metadata": {
    "collapsed": true
   },
   "source": [
    "# Collatz Conjecture"
   ]
  },
  {
   "cell_type": "markdown",
   "metadata": {},
   "source": [
    "Start with a number n > 1. \n",
    "\n",
    "Find the number of steps it takes to reach 1 using the following process: \n",
    "\n",
    "If n is even, divide it by 2. If n is odd, multiply it by 3 and add 1."
   ]
  },
  {
   "cell_type": "code",
   "execution_count": 1,
   "metadata": {},
   "outputs": [
    {
     "name": "stdout",
     "output_type": "stream",
     "text": [
      "Please enter a number (an integer) bigger than 1 (and smaller than a million): 1\n",
      "That is not a number (an integer) bigger than 1 (and smaller than a million).\n",
      "Please enter a number (an integer) bigger than 1 (and smaller than a million): ssj\n",
      "That is not a number (an integer) bigger than 1 (and smaller than a million).\n",
      "Please enter a number (an integer) bigger than 1 (and smaller than a million): 3\n",
      "It took 7 steps to reach 1.\n"
     ]
    }
   ],
   "source": [
    "#player enters a number\n",
    "number = 0 \n",
    "while number not in range (2, 1000000):\n",
    "    number = input(f\"Please enter a number (an integer) bigger than 1 (and smaller than a million): \")\n",
    "    try:\n",
    "        number = int(number)\n",
    "        if int(number)not in range (2, 1000000):\n",
    "            print(\"That is not a number (an integer) bigger than 1 (and smaller than a million).\")\n",
    "    except:\n",
    "        print(\"That is not a number (an integer) bigger than 1 (and smaller than a million).\")\n",
    "else:\n",
    "    number = int(number)\n",
    "\n",
    "#count the steps it takes to reach 1\n",
    "count = 0\n",
    "\n",
    "while number != 1:\n",
    "    if number%2==0:\n",
    "        number = number/2\n",
    "        count+=1\n",
    "    else:\n",
    "        number = number*3 +1\n",
    "        count+=1\n",
    "print(f\"It took {count} steps to reach 1.\")"
   ]
  },
  {
   "cell_type": "code",
   "execution_count": null,
   "metadata": {},
   "outputs": [],
   "source": []
  },
  {
   "cell_type": "code",
   "execution_count": null,
   "metadata": {},
   "outputs": [],
   "source": []
  }
 ],
 "metadata": {
  "kernelspec": {
   "display_name": "Python 3",
   "language": "python",
   "name": "python3"
  },
  "language_info": {
   "codemirror_mode": {
    "name": "ipython",
    "version": 3
   },
   "file_extension": ".py",
   "mimetype": "text/x-python",
   "name": "python",
   "nbconvert_exporter": "python",
   "pygments_lexer": "ipython3",
   "version": "3.7.6"
  }
 },
 "nbformat": 4,
 "nbformat_minor": 1
}
