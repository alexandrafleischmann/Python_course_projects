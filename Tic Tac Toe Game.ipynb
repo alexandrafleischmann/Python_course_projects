{
 "cells": [
  {
   "cell_type": "markdown",
   "metadata": {},
   "source": [
    "**Step 1: Write a function that can print out a board. Set up your board as a list, where each index 1-9 corresponds with a number on a number pad, so you get a 3 by 3 board representation.**"
   ]
  },
  {
   "cell_type": "code",
   "execution_count": 4,
   "metadata": {},
   "outputs": [],
   "source": [
    "from IPython.display import clear_output\n",
    "\n",
    "def display_board(board):\n",
    "    clear_output()\n",
    "    print(board[0],board[1], board[2])\n",
    "    print(board[3],board[4], board[5])\n",
    "    print(board[6],board[7], board[8])"
   ]
  },
  {
   "cell_type": "markdown",
   "metadata": {},
   "source": [
    "**TEST Step 1:** run your function on a test version of the board list, and make adjustments as necessary"
   ]
  },
  {
   "cell_type": "code",
   "execution_count": 5,
   "metadata": {},
   "outputs": [
    {
     "name": "stdout",
     "output_type": "stream",
     "text": [
      "X X O\n",
      "X O X\n",
      "X X O\n"
     ]
    }
   ],
   "source": [
    "test_board = ['X','X','O','X','O','X','X','X','O','X']\n",
    "display_board(test_board)"
   ]
  },
  {
   "cell_type": "markdown",
   "metadata": {},
   "source": [
    "**Step 2: Write a function that can take in a player input and assign their marker as 'X' or 'O'.**"
   ]
  },
  {
   "cell_type": "code",
   "execution_count": 6,
   "metadata": {},
   "outputs": [],
   "source": [
    "def player_input():\n",
    "    player1 = \"wrong\"\n",
    "    while player1 not in [\"X\",\"O\"]:\n",
    "        player1 = input(\"Please pick a marker 'X' or 'O'\").upper()\n",
    "        if player1 not in [\"X\",\"O\"]:\n",
    "            print(\"This is not a possible marker.\")\n",
    "    if player1 ==\"X\":\n",
    "        player2 = \"O\"\n",
    "    else:\n",
    "        player2 = \"X\"\n",
    "    markers = [player1, player2]\n",
    "    return markers"
   ]
  },
  {
   "cell_type": "markdown",
   "metadata": {},
   "source": [
    "**TEST Step 2:** run the function to make sure it returns the desired output"
   ]
  },
  {
   "cell_type": "code",
   "execution_count": 7,
   "metadata": {},
   "outputs": [
    {
     "name": "stdout",
     "output_type": "stream",
     "text": [
      "Please pick a marker 'X' or 'O'X\n"
     ]
    },
    {
     "data": {
      "text/plain": [
       "['X', 'O']"
      ]
     },
     "execution_count": 7,
     "metadata": {},
     "output_type": "execute_result"
    }
   ],
   "source": [
    "player_input()"
   ]
  },
  {
   "cell_type": "markdown",
   "metadata": {},
   "source": [
    "**Step 3: Write a function that takes in the board list object, a marker ('X' or 'O'), and a desired position (number 1-9) and assigns it to the board.**"
   ]
  },
  {
   "cell_type": "code",
   "execution_count": 8,
   "metadata": {},
   "outputs": [],
   "source": [
    "def place_marker(board, marker, position):\n",
    "    board[position-1]=marker\n",
    "    return board"
   ]
  },
  {
   "cell_type": "markdown",
   "metadata": {},
   "source": [
    "**TEST Step 3:** run the place marker function using test parameters and display the modified board"
   ]
  },
  {
   "cell_type": "code",
   "execution_count": 9,
   "metadata": {},
   "outputs": [
    {
     "name": "stdout",
     "output_type": "stream",
     "text": [
      "X X O\n",
      "X O X\n",
      "X X  \n"
     ]
    }
   ],
   "source": [
    "place_marker(test_board,' ',9)\n",
    "display_board(test_board)"
   ]
  },
  {
   "cell_type": "markdown",
   "metadata": {},
   "source": [
    "**Step 4: Write a function that takes in a board and a mark (X or O) and then checks to see if that mark has won.**"
   ]
  },
  {
   "cell_type": "code",
   "execution_count": 10,
   "metadata": {},
   "outputs": [],
   "source": [
    "def win_check(board, mark):\n",
    "    win = False\n",
    "    #check for rows\n",
    "    if board[0:3]==[mark,mark,mark] or board[3:6]==[mark,mark,mark] or board[6:9]==[mark,mark,mark]:\n",
    "        win = True\n",
    "        print(\"You have won!\")\n",
    "        return win\n",
    "    #check for columns\n",
    "    elif board[0:9:3]==[mark,mark,mark] or board[1:9:3]==[mark,mark,mark] or board[2:9:3]==[mark,mark,mark]:\n",
    "        win = True\n",
    "        print(\"You have won!\")\n",
    "        return win\n",
    "    #check for diagonals\n",
    "    elif (board[0]==mark and board[4]==mark and board[8]==mark) or (board[2]==mark and board[4]==mark and board[6]==mark):\n",
    "        win = True\n",
    "        print(\"You have won!\")\n",
    "        return win\n",
    "    else:\n",
    "        return win"
   ]
  },
  {
   "cell_type": "markdown",
   "metadata": {},
   "source": [
    "**TEST Step 4:** run the win_check function against the test_board"
   ]
  },
  {
   "cell_type": "code",
   "execution_count": 11,
   "metadata": {},
   "outputs": [
    {
     "name": "stdout",
     "output_type": "stream",
     "text": [
      "You have won!\n"
     ]
    },
    {
     "data": {
      "text/plain": [
       "True"
      ]
     },
     "execution_count": 11,
     "metadata": {},
     "output_type": "execute_result"
    }
   ],
   "source": [
    "win_check(test_board,'X')"
   ]
  },
  {
   "cell_type": "markdown",
   "metadata": {},
   "source": [
    "**Step 5: Write a function that uses the random module to randomly decide which player goes first. Return a string of which player went first.**"
   ]
  },
  {
   "cell_type": "code",
   "execution_count": 12,
   "metadata": {},
   "outputs": [],
   "source": [
    "import random\n",
    "\n",
    "def choose_first():\n",
    "    ready = \"wrong\"\n",
    "    while ready != \"yes\":\n",
    "        ready = input(\"Please answer yes if you have choosen who is Player 1 and Player 2.\")\n",
    "        if ready != \"yes\":\n",
    "            print(\"This is a wrong answer.\")\n",
    "    first=random.randint(1,2)\n",
    "    if first == 1:\n",
    "        print(\"Ok, great. Player 1 goes first.\")\n",
    "        second = 2\n",
    "    else:\n",
    "        print(\"Ok, great. Player 2 goes first.\")\n",
    "        second = 1\n",
    "    return [first, second]"
   ]
  },
  {
   "cell_type": "markdown",
   "metadata": {},
   "source": [
    "**Step 6: Write a function that returns a boolean indicating whether a space on the board is freely available.**"
   ]
  },
  {
   "cell_type": "code",
   "execution_count": 13,
   "metadata": {},
   "outputs": [],
   "source": [
    "def space_check(board, position):\n",
    "    return board[position-1] not in [\"X\", \"O\"]"
   ]
  },
  {
   "cell_type": "markdown",
   "metadata": {},
   "source": [
    "**Step 7: Write a function that checks if the board is full and returns a boolean value. True if full, False otherwise.**"
   ]
  },
  {
   "cell_type": "code",
   "execution_count": 14,
   "metadata": {},
   "outputs": [],
   "source": [
    "def full_board_check(board):\n",
    "    for board_pos in board:\n",
    "        if board_pos not in [\"X\", \"O\"]:\n",
    "            return False\n",
    "        else:\n",
    "            pass\n",
    "    else:\n",
    "        return True"
   ]
  },
  {
   "cell_type": "markdown",
   "metadata": {},
   "source": [
    "**Step 8: Write a function that asks for a player's next position (as a number 1-9) and then use the function from step 6 to check if it's a free position. If it is, then return the position for later use.**"
   ]
  },
  {
   "cell_type": "code",
   "execution_count": 15,
   "metadata": {},
   "outputs": [],
   "source": [
    "def player_choice(board):\n",
    "    #position and check both wrong at the start\n",
    "    position = \"wrong\"\n",
    "    position_check = False\n",
    "    #while position check false\n",
    "    while position_check == False:\n",
    "        #player enters input\n",
    "        position = input(\"Please enter a position (1-9)\")\n",
    "            #if input is wrong, tell player, player enters new input\n",
    "        if position not in [\"1\",\"2\",\"3\",\"4\",\"5\",\"6\",\"7\",\"8\",\"9\"]:\n",
    "            print(\"This is not a valid choice for a position\")\n",
    "        #if input is correct, check whether the position is free\n",
    "        else:\n",
    "        #if position is free, set position check to true and return position\n",
    "            if space_check(board, int(position))==True:\n",
    "                position_check = True\n",
    "                return int(position)\n",
    "            else:\n",
    "                print(\"This position is not free\")"
   ]
  },
  {
   "cell_type": "markdown",
   "metadata": {},
   "source": [
    "**Step 9: Write a function that asks the player if they want to play again and returns a boolean True if they do want to play again.**"
   ]
  },
  {
   "cell_type": "code",
   "execution_count": 16,
   "metadata": {},
   "outputs": [],
   "source": [
    "def replay():\n",
    "    game_continue = True\n",
    "    while game_continue == True:\n",
    "        play = input(\"Would you like to play again? Select Yes or No: \")\n",
    "        if play != \"Yes\" and play != \"No\":\n",
    "            print(\"This is not a possible option.\")\n",
    "        if play == \"Yes\":\n",
    "            return True\n",
    "        if play == \"No\":\n",
    "            return False"
   ]
  },
  {
   "cell_type": "markdown",
   "metadata": {
    "collapsed": true
   },
   "source": [
    "**Step 10: Use while loops and the previously made functions to run the game!**"
   ]
  },
  {
   "cell_type": "code",
   "execution_count": 17,
   "metadata": {},
   "outputs": [
    {
     "name": "stdout",
     "output_type": "stream",
     "text": [
      "O O _\n",
      "_ O _\n",
      "X X X\n",
      "You have won!\n",
      "Would you like to play again? Select Yes or No: No\n",
      "Thank you for playing!\n"
     ]
    }
   ],
   "source": [
    "print('Welcome to Tic Tac Toe!')\n",
    "print(\"You have to decide who is Player 1 and who is Player 2. Then we will decide randomly who goes first.\")\n",
    "\n",
    "#name the start board and the board showing the positions\n",
    "player_board = [\"_\", \"_\", \"_\", \"_\", \"_\", \"_\", \"_\", \"_\", \"_\"]\n",
    "position_board = [\"1\", \"2\", \"3\", \"4\", \"5\", \"6\", \"7\", \"8\", \"9\"]\n",
    "\n",
    "#set the order of the players\n",
    "order = choose_first()\n",
    "first = order[0]\n",
    "second = order[1]\n",
    "print(f\"Now Player {first} has to decide which marker to use.\")\n",
    "\n",
    "#set the markers of the players\n",
    "player_marker=player_input()\n",
    "firstmarker = player_marker[0]\n",
    "secondmarker = player_marker[1]\n",
    "\n",
    "print(\"\\nThis is how the positions on the board are called:\")\n",
    "display_board(position_board)\n",
    "\n",
    "print(\"\\nThis is how the board looks at the beginning:\")\n",
    "display_board(player_board)\n",
    "\n",
    "Game = True\n",
    "while Game == True:\n",
    "    \n",
    "    #turn of first player\n",
    "    print(f\"\\nIt's now Player {first}'s turn\")\n",
    "    newposition = player_choice(player_board)\n",
    "    place_marker(player_board, firstmarker, newposition)\n",
    "    print(\"\\nThis is how the board looks like at the moment:\")\n",
    "    display_board(player_board)\n",
    "    \n",
    "    #check whether turn of first player won\n",
    "    if win_check(player_board, firstmarker)==True:\n",
    "        #if player won, print that they won and ask whether they want to replay\n",
    "        if replay()==True:\n",
    "        #if participants want to play again, restart\n",
    "            player_board = [\"_\", \"_\", \"_\", \"_\", \"_\", \"_\", \"_\", \"_\", \"_\"]\n",
    "        else:\n",
    "            print (\"Thank you for playing!\")\n",
    "            Game = False\n",
    "            break\n",
    "\n",
    "    \n",
    "    #check whether the board is full\n",
    "    if full_board_check(player_board)==True:\n",
    "        print(\"\\nA draw!\")\n",
    "        if replay()==True:\n",
    "            #if participants want to play again, restart\n",
    "            player_board = [\"_\", \"_\", \"_\", \"_\", \"_\", \"_\", \"_\", \"_\", \"_\"]\n",
    "        else:\n",
    "            print (\"Thank you for playing!\")\n",
    "            Game = False\n",
    "            break\n",
    "        \n",
    "    #turn of second player\n",
    "    print(f\"\\nIt's now Player {second}'s turn\")\n",
    "    newposition = player_choice(player_board)\n",
    "    place_marker(player_board, secondmarker, newposition)\n",
    "    print(\"\\nThis is how the board looks like at the moment:\")\n",
    "    display_board(player_board)\n",
    "   \n",
    "    \n",
    "    #check whether turn of second player won\n",
    "    if win_check(player_board, secondmarker)==True:\n",
    "        \n",
    "        #if player won, print that they won and ask whether they want to replay\n",
    "        if replay()==True:\n",
    "        #if participants want to play again, restart\n",
    "            player_board = [\"_\", \"_\", \"_\", \"_\", \"_\", \"_\", \"_\", \"_\", \"_\"]\n",
    "        else:\n",
    "            print (\"Thank you for playing!\")\n",
    "            Game = False\n",
    "            break\n",
    "\n",
    "    \n",
    "    #check whether the board is full\n",
    "    if full_board_check(player_board)==True:\n",
    "        print(\"\\nA draw!\")\n",
    "        \n",
    "        if replay()==True:\n",
    "            #if participants want to play again, restart\n",
    "            player_board = [\"_\", \"_\", \"_\", \"_\", \"_\", \"_\", \"_\", \"_\", \"_\"]\n",
    "        else:\n",
    "            print (\"Thank you for playing!\")\n",
    "            Game = False\n",
    "            break"
   ]
  },
  {
   "cell_type": "markdown",
   "metadata": {
    "collapsed": true
   },
   "source": [
    "## Good Job!"
   ]
  }
 ],
 "metadata": {
  "kernelspec": {
   "display_name": "Python 3",
   "language": "python",
   "name": "python3"
  },
  "language_info": {
   "codemirror_mode": {
    "name": "ipython",
    "version": 3
   },
   "file_extension": ".py",
   "mimetype": "text/x-python",
   "name": "python",
   "nbconvert_exporter": "python",
   "pygments_lexer": "ipython3",
   "version": "3.7.6"
  }
 },
 "nbformat": 4,
 "nbformat_minor": 1
}
